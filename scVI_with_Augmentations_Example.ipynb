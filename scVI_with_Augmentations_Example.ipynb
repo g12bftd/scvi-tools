{
  "nbformat": 4,
  "nbformat_minor": 0,
  "metadata": {
    "colab": {
      "provenance": []
    },
    "kernelspec": {
      "name": "python3",
      "display_name": "Python 3"
    },
    "language_info": {
      "name": "python"
    }
  },
  "cells": [
    {
      "cell_type": "markdown",
      "source": [
        "Install Dependencies"
      ],
      "metadata": {
        "id": "LWhmx-22vZLW"
      }
    },
    {
      "cell_type": "code",
      "source": [
        "!pip install --quiet anndata torch scrublet scanpy gdown bbknn scikit-misc scib-metrics leidenalg lightning ml_collections docrep mudata pyro-ppl numpyro sparse"
      ],
      "metadata": {
        "id": "zZQscc9evbCR"
      },
      "execution_count": null,
      "outputs": []
    },
    {
      "cell_type": "markdown",
      "source": [
        "Pip install editable version of scvi-tools"
      ],
      "metadata": {
        "id": "gHmInqhPvfqf"
      }
    },
    {
      "cell_type": "code",
      "source": [
        "%cd \"PATH-TO-scvi-tools\"\n",
        "!ls\n",
        "!pip install -e ."
      ],
      "metadata": {
        "id": "ByC2Orz5vb6K"
      },
      "execution_count": null,
      "outputs": []
    },
    {
      "cell_type": "markdown",
      "source": [
        "Import necessary libraries"
      ],
      "metadata": {
        "id": "Je13xBdRxeJe"
      }
    },
    {
      "cell_type": "code",
      "source": [
        "import sys\n",
        "import os\n",
        "import warnings\n",
        "import anndata\n",
        "import matplotlib.pyplot as plt\n",
        "import numpy as np\n",
        "import pandas as pd\n",
        "import scanpy as sc\n",
        "import scrublet as scr\n",
        "import scvi\n",
        "from scib_metrics.benchmark import Benchmarker, BioConservation\n",
        "import torch"
      ],
      "metadata": {
        "id": "d360WqjpvlHz"
      },
      "execution_count": null,
      "outputs": []
    },
    {
      "cell_type": "markdown",
      "source": [
        "Setup configurations for optimal performance and visualization"
      ],
      "metadata": {
        "id": "d8oyP9nsxnSR"
      }
    },
    {
      "cell_type": "code",
      "source": [
        "sc.set_figure_params(figsize=(6, 6))\n",
        "torch.set_float32_matmul_precision(\"high\")\n",
        "%config InlineBackend.print_figure_kwargs={'facecolor' : \"w\"}\n",
        "%config InlineBackend.figure_format='retina'"
      ],
      "metadata": {
        "id": "sLTAfZn3voFH"
      },
      "execution_count": null,
      "outputs": []
    },
    {
      "cell_type": "code",
      "source": [
        "# Load the  datasets\n",
        "adata = sc.read_h5ad(\n",
        "    \".../neftel_ss2.h5ad\",\n",
        ")\n",
        "\n",
        "bdata = sc.read_h5ad(\n",
        "    \".../neftel_10x.h5ad\",\n",
        ")\n",
        "\n",
        "# Add a categorical variable indicating the source for each dataset\n",
        "adata.obs['tech'] = 'SS2'\n",
        "bdata.obs['tech'] = '10X'\n",
        "\n",
        "# Combine the two AnnData objects into one\n",
        "adata = sc.concat([adata, bdata], axis=0, join='outer')\n",
        "adata"
      ],
      "metadata": {
        "id": "JLejmgzivpxL"
      },
      "execution_count": null,
      "outputs": []
    },
    {
      "cell_type": "markdown",
      "source": [
        "Pre-processing"
      ],
      "metadata": {
        "id": "ItmIqURBvypg"
      }
    },
    {
      "cell_type": "code",
      "source": [
        "# Filter out cycling cells\n",
        "cycling_phases = ['S', 'G2M']  # Active cell cycle phases\n",
        "non_cycling_mask = ~adata.obs['phase'].isin(cycling_phases)\n",
        "adata = adata[non_cycling_mask].copy()  # Keep only non-cycling cells\n",
        "\n",
        "\n",
        "# Calculate QC metrics\n",
        "sc.pp.calculate_qc_metrics(adata, inplace=True)\n",
        "\n",
        "# Perform log-count normalization to compute highly variable genes\n",
        "adata.X = adata.layers[\"counts\"].copy()\n",
        "sc.pp.normalize_total(adata)\n",
        "sc.pp.log1p(adata)\n",
        "adata.layers[\"logcounts\"] = adata.X.copy()\n",
        "\n",
        "# Compute highly variable genes\n",
        "sc.pp.highly_variable_genes(\n",
        "    adata,\n",
        "    n_top_genes=5000,\n",
        "    layer=\"counts\",\n",
        "    subset=False,\n",
        "    flavor=\"seurat_v3\",\n",
        "    batch_key=\"sample\"\n",
        ")\n",
        "\n",
        "sc.pl.highly_variable_genes(adata, log=True)\n",
        "\n",
        "# Filter the dataset to keep only highly variable genes\n",
        "adata = adata[:, adata.var['highly_variable']].copy()\n",
        "\n",
        "\n",
        "# Recompute total counts now that some genes have been filtered out\n",
        "counts = adata.layers[\"counts\"]\n",
        "# Compute total counts for each cell\n",
        "total_counts = np.sum(counts, axis=1)\n",
        "adata.obs['total_counts'] = total_counts\n",
        "\n",
        "# Dimensionality reduction and clustering\n",
        "sc.tl.pca(adata)\n",
        "sc.pp.neighbors(adata)\n",
        "sc.tl.umap(adata)\n",
        "# Plot UMAP with colors representing the batch information\n",
        "sc.pl.umap(adata, title=['Batch', 'Cell Type', 'Library Size', 'Sequencing Method'],\n",
        "                   color=['sample', 'celltype', 'total_counts', 'tech'],\n",
        "                   legend_loc='right margin', wspace=0.6, cmap=\"viridis\",\n",
        "                   ncols=2)\n",
        "\n"
      ],
      "metadata": {
        "id": "-WTUL1dNvpzy"
      },
      "execution_count": null,
      "outputs": []
    },
    {
      "cell_type": "markdown",
      "source": [
        "Setup your anndata according to scVI formats\n"
      ],
      "metadata": {
        "id": "Y6ms6poxwN3X"
      }
    },
    {
      "cell_type": "code",
      "source": [
        "scvi.model.SCVI.setup_anndata(adata, layer=\"counts\", batch_key=\"batch\")"
      ],
      "metadata": {
        "id": "iroI0crovp25"
      },
      "execution_count": null,
      "outputs": []
    },
    {
      "cell_type": "markdown",
      "source": [
        "Train the model with a random gene swapping augmentation & save the model.\n"
      ],
      "metadata": {
        "id": "lBRgGvVWwkcQ"
      }
    },
    {
      "cell_type": "code",
      "source": [
        "model = scvi.model.SCVI(adata=adata, augmentation_to_apply=[\"random_swap\"])\n",
        "model.train(check_val_every_n_epoch=1)\n",
        "model.save(file_path, overwrite=True)"
      ],
      "metadata": {
        "id": "siLtyPGwwRNa"
      },
      "execution_count": null,
      "outputs": []
    },
    {
      "cell_type": "markdown",
      "source": [
        "For a full list of augmentations, consult scvi-tools --> scvi --> module --> _vae.py. The augmentations are under the Augmentation class"
      ],
      "metadata": {
        "id": "JOraOvfPwp4E"
      }
    }
  ]
}